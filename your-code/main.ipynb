{
 "cells": [
  {
   "cell_type": "markdown",
   "metadata": {},
   "source": [
    "# Understanding Descriptive Statistics\n",
    "\n",
    "Import the necessary libraries here:"
   ]
  },
  {
   "cell_type": "code",
   "execution_count": null,
   "metadata": {},
   "outputs": [],
   "source": [
    "import random\n",
    "import pandas as pd\n",
    "import numpy as np\n",
    "import matplotlib.pyplot as plt"
   ]
  },
  {
   "cell_type": "markdown",
   "metadata": {},
   "source": [
    "## Challenge 1\n",
    "#### 1.- Define a function that simulates rolling a dice 10 times. Save the information in a dataframe.\n",
    "**Hint**: you can use the *choices* function from module *random* to help you with the simulation."
   ]
  },
  {
   "cell_type": "code",
   "execution_count": null,
   "metadata": {},
   "outputs": [],
   "source": [
    "# Roll a dice 10 times\n",
    "\n",
    "rolls_df = pd.DataFrame(random.choices([1, 2, 3, 4, 5, 6], k = 10), columns = ['Value'])\n",
    "rolls_df.index += 1\n",
    "\n",
    "rolls_df"
   ]
  },
  {
   "cell_type": "markdown",
   "metadata": {},
   "source": [
    "#### 2.- Plot the results sorted by value."
   ]
  },
  {
   "cell_type": "code",
   "execution_count": null,
   "metadata": {},
   "outputs": [],
   "source": [
    "# Plot dice-roll results (histogram)\n",
    "\n",
    "plt.hist(rolls_df, bins = np.arange(1, 8) - 0.5)\n",
    "plt.locator_params(axis = 'y', integer = True)\n",
    "plt.show()"
   ]
  },
  {
   "cell_type": "markdown",
   "metadata": {},
   "source": [
    "#### 3.- Calculate the frequency distribution and plot it. What is the relation between this plot and the plot above? Describe it with words."
   ]
  },
  {
   "cell_type": "code",
   "execution_count": null,
   "metadata": {},
   "outputs": [],
   "source": [
    "# New list (roll frequency distribution)\n",
    "freq_rolls = [list(rolls_df['Value']).count(roll) for roll in [1, 2, 3, 4, 5, 6]]\n",
    "\n",
    "print('Frequency list:', freq_rolls)\n",
    "\n",
    "# Frequency DataFrame\n",
    "freq_df = pd.DataFrame({'Frequency': freq_rolls})\n",
    "freq_df.index += 1\n",
    "\n",
    "display(freq_df)\n",
    "\n",
    "# Plot frequency DataFrame (bar plot)\n",
    "plt.bar(freq_df.index, freq_df['Frequency'])\n",
    "plt.locator_params(axis = 'y', integer = True)\n",
    "plt.show()"
   ]
  },
  {
   "cell_type": "code",
   "execution_count": null,
   "metadata": {},
   "outputs": [],
   "source": [
    "# ANSWER:\n",
    "# Both plots depict the same information.\n",
    "# Determining the frequency distribution, which we did in step 3, is done by the histogram in step 2 all by itself."
   ]
  },
  {
   "cell_type": "markdown",
   "metadata": {},
   "source": [
    "## Challenge 2\n",
    "Now, using the dice results obtained in *challenge 1*, you are going to define some functions that will help you calculate the mean of your data in two different ways, the median and the four quartiles. \n",
    "\n",
    "#### 1.- Define a function that computes the mean by summing all the observations and dividing by the total number of observations. You are not allowed to use any methods or functions that directly calculate the mean value. "
   ]
  },
  {
   "cell_type": "code",
   "execution_count": null,
   "metadata": {},
   "outputs": [],
   "source": [
    "# Calculate the mean\n",
    "def get_mean(values):\n",
    "   return sum(values) / len(values)\n",
    "\n",
    "print(f\"Dice-rolls mean: {get_mean(rolls_df['Value'])}\")"
   ]
  },
  {
   "cell_type": "markdown",
   "metadata": {},
   "source": [
    "#### 2.- First, calculate the frequency distribution. Then, calculate the mean using the values of the frequency distribution you've just computed. You are not allowed to use any methods or functions that directly calculate the mean value. "
   ]
  },
  {
   "cell_type": "code",
   "execution_count": null,
   "metadata": {},
   "outputs": [],
   "source": [
    "# Roll frequency distribution list\n",
    "freq_rolls = [list(rolls_df['Value']).count(roll) for roll in [1, 2, 3, 4, 5, 6]]\n",
    "\n",
    "# Calculate the mean\n",
    "mean_from_freq = sum([(roll[0] + 1) * roll[1] for roll in enumerate(freq_rolls)]) / sum(freq_rolls)\n",
    "\n",
    "print(f\"Dice-rolls mean: {mean_from_freq}\")"
   ]
  },
  {
   "cell_type": "markdown",
   "metadata": {},
   "source": [
    "#### 3.- Define a function to calculate the median. You are not allowed to use any methods or functions that directly calculate the median value. \n",
    "**Hint**: you might need to define two computation cases depending on the number of observations used to calculate the median."
   ]
  },
  {
   "cell_type": "code",
   "execution_count": null,
   "metadata": {},
   "outputs": [],
   "source": [
    "# Random observations\n",
    "even_observation = random.choices(range(1, 10), k = 10)\n",
    "odd_observation = random.choices(range(1, 10), k = 11)\n",
    "\n",
    "# Calculate the median\n",
    "def get_median(values):\n",
    "   if (len(values) % 2):\n",
    "      return sorted(values)[int(len(values) / 2 - 0.5)]\n",
    "   else:\n",
    "      index = int(len(values) / 2 - 1)\n",
    "      return sum(sorted(values)[slice(index, index + 2)]) / 2\n",
    "\n",
    "print('Even observation', sorted(even_observation), 'Median:', get_median(even_observation))\n",
    "print('Odd observation', sorted(odd_observation), 'Median:', get_median(odd_observation))"
   ]
  },
  {
   "cell_type": "markdown",
   "metadata": {},
   "source": [
    "#### 4.- Define a function to calculate the four quartiles. You can use the function you defined above to compute the median but you are not allowed to use any methods or functions that directly calculate the quartiles. "
   ]
  },
  {
   "cell_type": "code",
   "execution_count": null,
   "metadata": {},
   "outputs": [],
   "source": [
    "# Random observations\n",
    "even_observation = random.choices(range(1, 10), k = 10)\n",
    "odd_observation = random.choices(range(1, 10), k = 11)\n",
    "\n",
    "# Calculate quartiles\n",
    "def get_quartiles(values):\n",
    "   values = sorted(values)\n",
    "   center = int(len(values) / 2)\n",
    "   odd = 1 if len(values) % 2 else 0\n",
    "   q1 = get_median(values[:center + odd])\n",
    "   q2 = get_median(values)\n",
    "   q3 = get_median(values[center:])\n",
    "   return (q1, q2, q3, max(values))\n",
    "\n",
    "print('Even observation:', sorted(even_observation), 'Quartiles:', get_quartiles(even_observation))\n",
    "print('Odd observation:', sorted(odd_observation), 'Quartiles:', get_quartiles(odd_observation))"
   ]
  },
  {
   "cell_type": "markdown",
   "metadata": {},
   "source": [
    "## Challenge 3\n",
    "Read the csv `roll_the_dice_hundred.csv` from the `data` folder.\n",
    "#### 1.- Sort the values and plot them. What do you see?"
   ]
  },
  {
   "cell_type": "code",
   "execution_count": null,
   "metadata": {},
   "outputs": [],
   "source": [
    "# Create dataframe\n",
    "rolls_hundreds = pd.read_csv('../data/roll_the_dice_hundred.csv')\n",
    "\n",
    "# Data cleaning\n",
    "rolls_hundreds.drop('Unnamed: 0', axis = 1, inplace = True)\n",
    "rolls_hundreds.set_index('roll', inplace = True)\n",
    "rolls_hundreds.index += 1\n",
    "\n",
    "display(rolls_hundreds.head())\n",
    "\n",
    "# Plot distribution frequency\n",
    "plt.hist(rolls_hundreds, bins = np.arange(1, 8) - 0.5)\n",
    "plt.show()"
   ]
  },
  {
   "cell_type": "code",
   "execution_count": null,
   "metadata": {},
   "outputs": [],
   "source": [
    "# ANSWER:\n",
    "# A lot of people got lucky with their rolls.\n",
    "# Many 6s, also 4s."
   ]
  },
  {
   "cell_type": "markdown",
   "metadata": {},
   "source": [
    "#### 2.- Using the functions you defined in *challenge 2*, calculate the mean value of the hundred dice rolls."
   ]
  },
  {
   "cell_type": "code",
   "execution_count": null,
   "metadata": {},
   "outputs": [],
   "source": [
    "# Calculate mean (hundreds)\n",
    "mean_hundreds = get_mean(rolls_hundreds['value'])\n",
    "\n",
    "print('Mean (a hundred rolls): ', mean_hundreds)"
   ]
  },
  {
   "cell_type": "markdown",
   "metadata": {},
   "source": [
    "#### 3.- Now, calculate the frequency distribution.\n"
   ]
  },
  {
   "cell_type": "code",
   "execution_count": null,
   "metadata": {},
   "outputs": [],
   "source": [
    "# Calculate frequency distribution\n",
    "freq_dist = rolls_hundreds['value'].value_counts().sort_index()\n",
    "\n",
    "freq_dist"
   ]
  },
  {
   "cell_type": "markdown",
   "metadata": {},
   "source": [
    "#### 4.- Plot the histogram. What do you see (shape, values...) ? How can you connect the mean value to the histogram? "
   ]
  },
  {
   "cell_type": "code",
   "execution_count": null,
   "metadata": {},
   "outputs": [],
   "source": [
    "# Plot rolls (hundreds) histogram + mean\n",
    "plt.hist(rolls_hundreds, bins = np.arange(1, 8) - 0.5)\n",
    "plt.axvline(x = mean_hundreds, color = 'r')\n",
    "plt.show()"
   ]
  },
  {
   "cell_type": "code",
   "execution_count": null,
   "metadata": {},
   "outputs": [],
   "source": [
    "# ANSWER:\n",
    "# This time we rolled a hundred times ...\n",
    "# so it's already more flattened, compared to the 10-rolls data set\n",
    "# That's why the mean is shifting towards the center value (3.5)."
   ]
  },
  {
   "cell_type": "markdown",
   "metadata": {},
   "source": [
    "#### 5.- Read the `roll_the_dice_thousand.csv` from the `data` folder. Plot the frequency distribution as you did before. Has anything changed? Why do you think it changed?"
   ]
  },
  {
   "cell_type": "code",
   "execution_count": null,
   "metadata": {},
   "outputs": [],
   "source": [
    "# Create dataframe\n",
    "rolls_thousands = pd.read_csv('../data/roll_the_dice_thousand.csv')\n",
    "\n",
    "# Data cleaning\n",
    "rolls_thousands.drop('Unnamed: 0', axis = 1, inplace = True)\n",
    "rolls_thousands.set_index('roll', inplace = True)\n",
    "rolls_thousands.index += 1\n",
    "\n",
    "display(rolls_thousands.head())\n",
    "\n",
    "# Plot distribution frequency\n",
    "plt.hist(rolls_thousands, bins = np.arange(1, 8) - 0.5)\n",
    "plt.show()\n",
    "\n",
    "# Calculate mean (thousands)\n",
    "print('Mean (a thousand rolls): ', get_mean(rolls_thousands['value']))"
   ]
  },
  {
   "cell_type": "code",
   "execution_count": null,
   "metadata": {},
   "outputs": [],
   "source": [
    "# ANSWER:\n",
    "# This time we rolled a THOUSAND times ...\n",
    "# so the results are almost equally distributed\n",
    "# The mean is almost at the center (3.5)."
   ]
  },
  {
   "cell_type": "markdown",
   "metadata": {},
   "source": [
    "## Challenge 4\n",
    "In the `data` folder of this repository you will find three different files with the prefix `ages_population`. These files contain information about a poll answered by a thousand people regarding their age. Each file corresponds to the poll answers in different neighbourhoods of Barcelona.\n",
    "\n",
    "#### 1.- Read the file `ages_population.csv`. Calculate the frequency distribution and plot it as we did during the lesson. Try to guess the range in which the mean and the standard deviation will be by looking at the plot. "
   ]
  },
  {
   "cell_type": "code",
   "execution_count": null,
   "metadata": {},
   "outputs": [],
   "source": [
    "# Create + clean dataframe\n",
    "ages_pop_1 = pd.read_csv('../data/ages_population.csv')\n",
    "ages_pop_1 = ages_pop_1.astype({'observation': 'int'})\n",
    "\n",
    "# Calculate age distribution frequency\n",
    "ages_1_freq = ages_pop_1.value_counts().to_frame().reset_index()\n",
    "ages_1_freq.rename(columns = {0: 'count'}, inplace= True)\n",
    "ages_1_freq.index += 1\n",
    "\n",
    "display(ages_1_freq.head())\n",
    "\n",
    "# Plot age distribution histogram\n",
    "plt.hist(ages_pop_1['observation'], bins = max(ages_pop_1.observation))\n",
    "plt.show()"
   ]
  },
  {
   "cell_type": "code",
   "execution_count": null,
   "metadata": {},
   "outputs": [],
   "source": [
    "# ANSWER:\n",
    "# It's a normal frequency distribution, so...\n",
    "# looking at the plot I'd guess: MEAN => ~39 years | STD => ~10 years"
   ]
  },
  {
   "cell_type": "markdown",
   "metadata": {},
   "source": [
    "#### 2.- Calculate the exact mean and standard deviation and compare them with your guesses. Do they fall inside the ranges you guessed?"
   ]
  },
  {
   "cell_type": "code",
   "execution_count": null,
   "metadata": {},
   "outputs": [],
   "source": [
    "# Calculate mean + standard deviation\n",
    "mean_pop_1 = np.mean(ages_pop_1['observation'])\n",
    "std_pop_1 = np.std(ages_pop_1['observation'])\n",
    "\n",
    "print('Mean:', mean_pop_1)\n",
    "print('Standard deviation:', std_pop_1)"
   ]
  },
  {
   "cell_type": "code",
   "execution_count": null,
   "metadata": {},
   "outputs": [],
   "source": [
    "# ANSWER:\n",
    "# 39 (mean), 10 (std) ... I was kinda close."
   ]
  },
  {
   "cell_type": "markdown",
   "metadata": {},
   "source": [
    "#### 3.- Now read the file `ages_population2.csv` . Calculate the frequency distribution and plot it."
   ]
  },
  {
   "cell_type": "code",
   "execution_count": null,
   "metadata": {},
   "outputs": [],
   "source": [
    "# Create + clean dataframe\n",
    "ages_pop_2 = pd.read_csv('../data/ages_population2.csv')\n",
    "ages_pop_2 = ages_pop_2.astype({'observation': 'int'})\n",
    "\n",
    "# Calculate age distribution frequency\n",
    "ages_2_freq = ages_pop_2.value_counts().to_frame().reset_index()\n",
    "ages_2_freq.rename(columns = {0: 'count'}, inplace= True)\n",
    "ages_2_freq.index += 1\n",
    "\n",
    "display(ages_2_freq.head())\n",
    "\n",
    "# Plot age distribution histogram\n",
    "plt.hist(ages_pop_2['observation'], bins = len(ages_2_freq))\n",
    "plt.show()"
   ]
  },
  {
   "cell_type": "markdown",
   "metadata": {},
   "source": [
    "####  4.- What do you see? Is there any difference with the frequency distribution in step 1?"
   ]
  },
  {
   "cell_type": "code",
   "execution_count": null,
   "metadata": {},
   "outputs": [],
   "source": [
    "# ANSWER:\n",
    "# It is a much younger population.\n",
    "# The frequency distribution is normal."
   ]
  },
  {
   "cell_type": "markdown",
   "metadata": {},
   "source": [
    "#### 5.- Calculate the mean and standard deviation. Compare the results with the mean and standard deviation in step 2. What do you think?"
   ]
  },
  {
   "cell_type": "code",
   "execution_count": null,
   "metadata": {},
   "outputs": [],
   "source": [
    "# Calculate mean + standard deviation\n",
    "mean_pop_2 = np.mean(ages_pop_2['observation'])\n",
    "std_pop_2 = np.std(ages_pop_2['observation'])\n",
    "\n",
    "print('Mean:', mean_pop_2)\n",
    "print('Standard deviation:', std_pop_2)"
   ]
  },
  {
   "cell_type": "code",
   "execution_count": null,
   "metadata": {},
   "outputs": [],
   "source": [
    "# ANSWER:\n",
    "# The results for mean and standard deviation are to be expected.\n",
    "# The mean shifts to a younger age because the whole population sample is younger.\n",
    "# The standard deviation is much smaller, because the span of the group is much narrower."
   ]
  },
  {
   "cell_type": "markdown",
   "metadata": {},
   "source": [
    "## Challenge 5\n",
    "Now is the turn of `ages_population3.csv`.\n",
    "\n",
    "#### 1.- Read the file `ages_population3.csv`. Calculate the frequency distribution and plot it."
   ]
  },
  {
   "cell_type": "code",
   "execution_count": null,
   "metadata": {},
   "outputs": [],
   "source": [
    "# Create + clean dataframe\n",
    "ages_pop_3 = pd.read_csv('../data/ages_population3.csv')\n",
    "ages_pop_3 = ages_pop_3.astype({'observation': 'int'})\n",
    "\n",
    "# Calculate age distribution frequency\n",
    "ages_3_freq = ages_pop_3.value_counts().to_frame().reset_index()\n",
    "ages_3_freq.rename(columns = {0: 'count'}, inplace= True)\n",
    "ages_3_freq.index += 1\n",
    "\n",
    "display(ages_3_freq.head())\n",
    "\n",
    "# Plot age distribution histogram\n",
    "plt.hist(ages_pop_3['observation'], bins = max(ages_3_freq.observation))\n",
    "plt.show()"
   ]
  },
  {
   "cell_type": "markdown",
   "metadata": {},
   "source": [
    "#### 2.- Calculate the mean and standard deviation. Compare the results with the plot in step 1. What is happening?"
   ]
  },
  {
   "cell_type": "code",
   "execution_count": null,
   "metadata": {},
   "outputs": [],
   "source": [
    "# Calculate mean + standard deviation\n",
    "mean_pop_3 = np.mean(ages_pop_3['observation'])\n",
    "std_pop_3 = np.std(ages_pop_3['observation'])\n",
    "\n",
    "print('Mean:', mean_pop_3)\n",
    "print('Standard deviation:', std_pop_3)"
   ]
  },
  {
   "cell_type": "code",
   "execution_count": null,
   "metadata": {},
   "outputs": [],
   "source": [
    "# ANSWER:\n",
    "# In this population sample there is a significant accumulation of older people.\n",
    "# For the mean, this means that it continues to shift to an older age.\n",
    "# The standard deviation increases because the concentration among older people means a massive addition of regret."
   ]
  },
  {
   "cell_type": "markdown",
   "metadata": {},
   "source": [
    "#### 3.- Calculate the four quartiles. Use the results to explain your reasoning for question in step 2. How much of a difference is there between the median and the mean?"
   ]
  },
  {
   "cell_type": "code",
   "execution_count": null,
   "metadata": {},
   "outputs": [],
   "source": [
    "print('Quartile 1:\\t', np.quantile(ages_pop_3['observation'], 0.25))\n",
    "print('Quartile 2:\\t', np.quantile(ages_pop_3['observation'], 0.50))\n",
    "print('Quartile 3:\\t', np.quantile(ages_pop_3['observation'], 0.75))\n",
    "print('Quartile 4:\\t', np.quantile(ages_pop_3['observation'], 1.00))\n",
    "print('Mean:\\t\\t', np.mean(ages_pop_3['observation']))\n",
    "print('Median:\\t\\t', np.median(ages_pop_3))"
   ]
  },
  {
   "cell_type": "code",
   "execution_count": null,
   "metadata": {},
   "outputs": [],
   "source": [
    "# ANSWER:\n",
    "# The difference between the mean and the median is almost 2 year - due to the accumulation of older people.\n",
    "# The most extensive collection of people is in the second 25%, as shown by the span of only 10 years (q2 - q1).\n",
    "# But we can also see the accumulation in older people by comparing the 4th 25% (24 years) to the 1st 25% (30 years)."
   ]
  },
  {
   "cell_type": "markdown",
   "metadata": {},
   "source": [
    "#### 4.- Calculate other percentiles that might be useful to give more arguments to your reasoning."
   ]
  },
  {
   "cell_type": "code",
   "execution_count": null,
   "metadata": {},
   "outputs": [],
   "source": [
    "print('Quantile 0.15:\\t', np.quantile(ages_pop_3['observation'], 0.15))\n",
    "print('Quantile 0.85:\\t', np.quantile(ages_pop_3['observation'], 0.85))\n",
    "print('Quantile 1.00:\\t', np.quantile(ages_pop_3['observation'], 1.00))"
   ]
  },
  {
   "cell_type": "code",
   "execution_count": null,
   "metadata": {},
   "outputs": [],
   "source": [
    "# ANSWER:\n",
    "# I would use the 0.15, 0.85 and 1.00 quantiles.\n",
    "# There are hardly any observations for the first 15% (25-year span).\n",
    "# In the last 15% there is an accumulation (only 13-year span)."
   ]
  },
  {
   "cell_type": "markdown",
   "metadata": {},
   "source": [
    "## Bonus challenge\n",
    "Compare the information about the three neighbourhoods. Prepare a report about the three of them. Remember to find out which are their similarities and their differences backing your arguments in basic statistics."
   ]
  },
  {
   "cell_type": "markdown",
   "metadata": {},
   "source": [
    "# **Neighbourhoods Report**"
   ]
  },
  {
   "cell_type": "code",
   "execution_count": null,
   "metadata": {},
   "outputs": [],
   "source": [
    "print('Population sample 1')\n",
    "plt.hist(ages_pop_1['observation'], bins = max(ages_pop_1.observation))\n",
    "plt.show()\n",
    "\n",
    "print('Population sample 2')\n",
    "plt.hist(ages_pop_2['observation'], bins = len(ages_2_freq))\n",
    "plt.show()\n",
    "\n",
    "print('Population sample 3')\n",
    "plt.hist(ages_pop_3['observation'], bins = max(ages_3_freq.observation))\n",
    "plt.show()"
   ]
  },
  {
   "cell_type": "markdown",
   "metadata": {},
   "source": [
    "## Assumptions\n",
    "1. The sample sizes of Population 1, Population 2, and Population 3 are the same."
   ]
  },
  {
   "cell_type": "code",
   "execution_count": null,
   "metadata": {},
   "outputs": [],
   "source": [
    "print(f'''\n",
    "   Population 1: {len(ages_pop_1)} observations\n",
    "   Population 2: {len(ages_pop_2)} observations\n",
    "   Population 3: {len(ages_pop_3)} observations''')"
   ]
  },
  {
   "cell_type": "markdown",
   "metadata": {},
   "source": [
    "2. Population 1 and Population 2 are normally distributed. This can be shown by the relative closeness between the mean and the median."
   ]
  },
  {
   "cell_type": "code",
   "execution_count": null,
   "metadata": {},
   "outputs": [],
   "source": [
    "# Calculate means population 1 + population 2\n",
    "med_pop_1 = np.median(ages_pop_1['observation'])\n",
    "med_pop_2 = np.median(ages_pop_2['observation'])\n",
    "\n",
    "print(f'Population 1:\\nMean: {mean_pop_1}\\tMedian: {med_pop_1}\\tDifference: {mean_pop_1 - med_pop_1}')\n",
    "print(f'Population 2:\\nMean: {mean_pop_2}\\tMedian: {med_pop_2}\\tDifference: {mean_pop_2 - med_pop_2}')"
   ]
  },
  {
   "cell_type": "markdown",
   "metadata": {},
   "source": [
    "3. There is a significant aggregation of older people in population 3."
   ]
  },
  {
   "cell_type": "code",
   "execution_count": null,
   "metadata": {},
   "outputs": [],
   "source": [
    "# Select older people (above 63 years of age)\n",
    "seniors_acc_pop_3 = ages_pop_3[(ages_pop_3['observation'] > 63) & (ages_pop_3['observation'] < 100)].value_counts()\n",
    "\n",
    "print(f'''Population 3:\n",
    "{sum(seniors_acc_pop_3)} people above 63 years (out of {len(ages_pop_1)}).\n",
    "Age range of the data between 85 - 95%: only {int(np.quantile(ages_pop_3['observation'], 0.95) - np.quantile(ages_pop_3['observation'], 0.85))} years\n",
    "This is also reflected in the difference between the mean and median: {mean_pop_3 - np.median(ages_pop_3['observation'])} years''')"
   ]
  },
  {
   "cell_type": "markdown",
   "metadata": {},
   "source": [
    "4. When speaking of an accumulation of older people in Population 3, one can also say there is a small gap around 60 years.<br>In any case, the transition to old age does not seem to be distributed homogeneously there."
   ]
  },
  {
   "cell_type": "code",
   "execution_count": null,
   "metadata": {},
   "outputs": [],
   "source": [
    "# Select age gap (53 - 63 years of age)\n",
    "pop_3_gap = ages_pop_3[(ages_pop_3['observation'] > 53) & (ages_pop_3['observation'] < 63)].value_counts()\n",
    "\n",
    "print(f'''Population 3:\n",
    "Only {sum(pop_3_gap)} people between 54 and 62.\n",
    "Out of 1000 observations these are only {sum(pop_3_gap) * 100 / 1000}%.''')"
   ]
  },
  {
   "cell_type": "markdown",
   "metadata": {},
   "source": [
    "5. Population 2 is much more younger than Population 1 and Population 3. It's easy to see by the age range of the first 75%."
   ]
  },
  {
   "cell_type": "code",
   "execution_count": null,
   "metadata": {},
   "outputs": [],
   "source": [
    "print(f'''Age-ranges first 75%:\n",
    "Population 1:\\t0 - {int(np.quantile(ages_pop_1['observation'], 0.75))} years\n",
    "Population 2:\\t0 - {int(np.quantile(ages_pop_2['observation'], 0.75))} years\n",
    "Population 3:\\t0 - {int(np.quantile(ages_pop_3['observation'], 0.75))} years''')"
   ]
  },
  {
   "cell_type": "markdown",
   "metadata": {},
   "source": [
    "6. Population 2 consists mostly of young adults within a very narrow age range. This can be expressed with the interquartile range."
   ]
  },
  {
   "cell_type": "code",
   "execution_count": null,
   "metadata": {},
   "outputs": [],
   "source": [
    "# Calculate interquartile range (q3 - q1)\n",
    "q1_pop_2 = np.quantile(ages_pop_2['observation'], 0.25)\n",
    "q3_pop_2 = np.quantile(ages_pop_2['observation'], 0.75)\n",
    "\n",
    "print(f'''Population 2:\n",
    "Interquartile Range: {int(q3_pop_2 - q1_pop_2)} years ({int(q1_pop_2)} - {int(q3_pop_2)} years)''')"
   ]
  },
  {
   "cell_type": "markdown",
   "metadata": {},
   "source": [
    "7. In Population 1, there is a single outlier at 82 years."
   ]
  },
  {
   "cell_type": "code",
   "execution_count": null,
   "metadata": {},
   "outputs": [],
   "source": [
    "# Identify outlier among seniors above 70 years of age\n",
    "ages_pop_1[ages_pop_1['observation'] > 70]"
   ]
  },
  {
   "cell_type": "markdown",
   "metadata": {},
   "source": [
    "8. It is striking that in Population 1, there are generally hardly any seniors."
   ]
  },
  {
   "cell_type": "code",
   "execution_count": null,
   "metadata": {},
   "outputs": [],
   "source": [
    "# Select seniors above 60 years of age\n",
    "pop_1_seniors = ages_pop_1[ages_pop_1['observation'] > 60].value_counts()\n",
    "\n",
    "print(f'''Population 1:\n",
    "Total number of seniors (above 60): {sum(pop_1_seniors)} out of {len(ages_pop_1)} people''')"
   ]
  },
  {
   "cell_type": "markdown",
   "metadata": {},
   "source": [
    "9. In Population 3 there seem to be hardly any children."
   ]
  },
  {
   "cell_type": "code",
   "execution_count": null,
   "metadata": {},
   "outputs": [],
   "source": [
    "# Select population first 0.02% of age\n",
    "pop_3_children = int(np.quantile(ages_pop_3, 0.02))\n",
    "\n",
    "print(f'''Population 3:\n",
    "Only {2}% of the population are under the age of {pop_3_children}.''')"
   ]
  }
 ],
 "metadata": {
  "kernelspec": {
   "display_name": "Python 3.9.12 ('base')",
   "language": "python",
   "name": "python3"
  },
  "language_info": {
   "codemirror_mode": {
    "name": "ipython",
    "version": 3
   },
   "file_extension": ".py",
   "mimetype": "text/x-python",
   "name": "python",
   "nbconvert_exporter": "python",
   "pygments_lexer": "ipython3",
   "version": "3.9.12"
  },
  "vscode": {
   "interpreter": {
    "hash": "3a677cc3a62f2d81855f233fae469a5f43f070d97a640d213221ee6c91be41b5"
   }
  }
 },
 "nbformat": 4,
 "nbformat_minor": 2
}
